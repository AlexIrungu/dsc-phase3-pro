{
 "cells": [
  {
   "cell_type": "markdown",
   "metadata": {},
   "source": [
    "# **PHASE 3 PROJECT** \n"
   ]
  },
  {
   "cell_type": "markdown",
   "metadata": {},
   "source": [
    "### **Final Project Submission**\n",
    "Please fill out:\n",
    "\n",
    "Student name: Alex Irungu\n",
    "\n",
    "Group: GROUP 1\n",
    "\n",
    "Student pace: PART TIME \n",
    "\n",
    "Scheduled project review date/time: PHASE 3\n",
    "\n",
    "Instructor name: SAMUEL KARU"
   ]
  },
  {
   "cell_type": "markdown",
   "metadata": {},
   "source": [
    "## 1. Business Problem and Stakeholder"
   ]
  },
  {
   "cell_type": "markdown",
   "metadata": {},
   "source": [
    "Our stakeholder is the city police department leadership. They want to understand what factors contribute to arrests following Terry Stops, with the goal of improving police practices and community relations"
   ]
  },
  {
   "cell_type": "markdown",
   "metadata": {},
   "source": [
    "We aim to build a classifier to predict whether an arrest was made after a Terry Stop, using various features including time of day, presence of weapons, and potentially sensitive information like race and gender."
   ]
  },
  {
   "cell_type": "markdown",
   "metadata": {},
   "source": [
    "## 2. Data Loading and Exploration"
   ]
  },
  {
   "cell_type": "code",
   "execution_count": 7,
   "metadata": {},
   "outputs": [],
   "source": [
    "# import necessary libraries\n",
    "import pandas as pd\n",
    "import numpy as np\n",
    "import matplotlib.pyplot as plt\n",
    "import seaborn as sns\n",
    "\n",
    "from sklearn.model_selection import train_test_split\n",
    "from sklearn.preprocessing import StandardScaler\n",
    "from sklearn.linear_model import LogisticRegression\n",
    "from sklearn.metrics import classification_report, confusion_matrix, roc_auc_score\n",
    "from sklearn.impute import SimpleImputer\n"
   ]
  },
  {
   "cell_type": "code",
   "execution_count": 8,
   "metadata": {},
   "outputs": [],
   "source": [
    "# Load the data\n",
    "df = pd.read_csv('Terry_Stops_20240827.csv')"
   ]
  },
  {
   "cell_type": "code",
   "execution_count": 9,
   "metadata": {},
   "outputs": [
    {
     "data": {
      "text/html": [
       "<div>\n",
       "<style scoped>\n",
       "    .dataframe tbody tr th:only-of-type {\n",
       "        vertical-align: middle;\n",
       "    }\n",
       "\n",
       "    .dataframe tbody tr th {\n",
       "        vertical-align: top;\n",
       "    }\n",
       "\n",
       "    .dataframe thead th {\n",
       "        text-align: right;\n",
       "    }\n",
       "</style>\n",
       "<table border=\"1\" class=\"dataframe\">\n",
       "  <thead>\n",
       "    <tr style=\"text-align: right;\">\n",
       "      <th></th>\n",
       "      <th>Subject Age Group</th>\n",
       "      <th>Subject ID</th>\n",
       "      <th>GO / SC Num</th>\n",
       "      <th>Terry Stop ID</th>\n",
       "      <th>Stop Resolution</th>\n",
       "      <th>Weapon Type</th>\n",
       "      <th>Officer ID</th>\n",
       "      <th>Officer YOB</th>\n",
       "      <th>Officer Gender</th>\n",
       "      <th>Officer Race</th>\n",
       "      <th>...</th>\n",
       "      <th>Reported Time</th>\n",
       "      <th>Initial Call Type</th>\n",
       "      <th>Final Call Type</th>\n",
       "      <th>Call Type</th>\n",
       "      <th>Officer Squad</th>\n",
       "      <th>Arrest Flag</th>\n",
       "      <th>Frisk Flag</th>\n",
       "      <th>Precinct</th>\n",
       "      <th>Sector</th>\n",
       "      <th>Beat</th>\n",
       "    </tr>\n",
       "  </thead>\n",
       "  <tbody>\n",
       "    <tr>\n",
       "      <th>0</th>\n",
       "      <td>36 - 45</td>\n",
       "      <td>7732696346</td>\n",
       "      <td>20190000315233</td>\n",
       "      <td>9803669705</td>\n",
       "      <td>Field Contact</td>\n",
       "      <td>-</td>\n",
       "      <td>4161</td>\n",
       "      <td>1957</td>\n",
       "      <td>M</td>\n",
       "      <td>American Indian/Alaska Native</td>\n",
       "      <td>...</td>\n",
       "      <td>10:47:39.0000000</td>\n",
       "      <td>SUSPICIOUS STOP - OFFICER INITIATED ONVIEW</td>\n",
       "      <td>--SUSPICIOUS CIRCUM. - SUSPICIOUS PERSON</td>\n",
       "      <td>ONVIEW</td>\n",
       "      <td>WEST PCT 1ST W - KING - PLATOON 1</td>\n",
       "      <td>N</td>\n",
       "      <td>N</td>\n",
       "      <td>West</td>\n",
       "      <td>K</td>\n",
       "      <td>K2</td>\n",
       "    </tr>\n",
       "    <tr>\n",
       "      <th>1</th>\n",
       "      <td>46 - 55</td>\n",
       "      <td>8295859194</td>\n",
       "      <td>20190000207006</td>\n",
       "      <td>8299762394</td>\n",
       "      <td>Arrest</td>\n",
       "      <td>-</td>\n",
       "      <td>6404</td>\n",
       "      <td>1971</td>\n",
       "      <td>M</td>\n",
       "      <td>White</td>\n",
       "      <td>...</td>\n",
       "      <td>17:08:12.0000000</td>\n",
       "      <td>BURG - OCCUPIED RESD</td>\n",
       "      <td>--PROPERTY DEST (DAMG)</td>\n",
       "      <td>911</td>\n",
       "      <td>NORTH PCT 2ND W - NORA (JOHN) - PLATOON 1</td>\n",
       "      <td>Y</td>\n",
       "      <td>N</td>\n",
       "      <td>North</td>\n",
       "      <td>N</td>\n",
       "      <td>N3</td>\n",
       "    </tr>\n",
       "    <tr>\n",
       "      <th>2</th>\n",
       "      <td>26 - 35</td>\n",
       "      <td>-1</td>\n",
       "      <td>20170000002886</td>\n",
       "      <td>467843</td>\n",
       "      <td>Field Contact</td>\n",
       "      <td>NaN</td>\n",
       "      <td>7430</td>\n",
       "      <td>1984</td>\n",
       "      <td>F</td>\n",
       "      <td>White</td>\n",
       "      <td>...</td>\n",
       "      <td>17:48:00.0000000</td>\n",
       "      <td>-</td>\n",
       "      <td>-</td>\n",
       "      <td>-</td>\n",
       "      <td>NORTH PCT 2ND WATCH - NORTH BEATS</td>\n",
       "      <td>N</td>\n",
       "      <td>Y</td>\n",
       "      <td>-</td>\n",
       "      <td>-</td>\n",
       "      <td>-</td>\n",
       "    </tr>\n",
       "    <tr>\n",
       "      <th>3</th>\n",
       "      <td>1 - 17</td>\n",
       "      <td>-1</td>\n",
       "      <td>20180000275743</td>\n",
       "      <td>472723</td>\n",
       "      <td>Offense Report</td>\n",
       "      <td>NaN</td>\n",
       "      <td>5151</td>\n",
       "      <td>1962</td>\n",
       "      <td>M</td>\n",
       "      <td>White</td>\n",
       "      <td>...</td>\n",
       "      <td>11:49:00.0000000</td>\n",
       "      <td>-</td>\n",
       "      <td>-</td>\n",
       "      <td>-</td>\n",
       "      <td>SOUTHWEST PCT 1ST W - WILLIAM - PLATOON 2</td>\n",
       "      <td>N</td>\n",
       "      <td>N</td>\n",
       "      <td>Southwest</td>\n",
       "      <td>F</td>\n",
       "      <td>F1</td>\n",
       "    </tr>\n",
       "    <tr>\n",
       "      <th>4</th>\n",
       "      <td>36 - 45</td>\n",
       "      <td>16227498273</td>\n",
       "      <td>20220000263279</td>\n",
       "      <td>37099192062</td>\n",
       "      <td>Arrest</td>\n",
       "      <td>-</td>\n",
       "      <td>7655</td>\n",
       "      <td>1982</td>\n",
       "      <td>M</td>\n",
       "      <td>Nat Hawaiian/Oth Pac Islander</td>\n",
       "      <td>...</td>\n",
       "      <td>22:18:36.0000000</td>\n",
       "      <td>SHOPLIFT - THEFT</td>\n",
       "      <td>--BURGLARY - NON RESIDENTIAL/COMMERCIAL</td>\n",
       "      <td>ONVIEW</td>\n",
       "      <td>SOUTHWEST PCT 2ND W - FRANK - PLATOON 2</td>\n",
       "      <td>Y</td>\n",
       "      <td>N</td>\n",
       "      <td>Southwest</td>\n",
       "      <td>F</td>\n",
       "      <td>F2</td>\n",
       "    </tr>\n",
       "  </tbody>\n",
       "</table>\n",
       "<p>5 rows × 23 columns</p>\n",
       "</div>"
      ],
      "text/plain": [
       "  Subject Age Group   Subject ID     GO / SC Num  Terry Stop ID  \\\n",
       "0           36 - 45   7732696346  20190000315233     9803669705   \n",
       "1           46 - 55   8295859194  20190000207006     8299762394   \n",
       "2           26 - 35           -1  20170000002886         467843   \n",
       "3            1 - 17           -1  20180000275743         472723   \n",
       "4           36 - 45  16227498273  20220000263279    37099192062   \n",
       "\n",
       "  Stop Resolution Weapon Type Officer ID  Officer YOB Officer Gender  \\\n",
       "0   Field Contact           -       4161         1957              M   \n",
       "1          Arrest           -       6404         1971              M   \n",
       "2   Field Contact         NaN       7430         1984              F   \n",
       "3  Offense Report         NaN       5151         1962              M   \n",
       "4          Arrest           -       7655         1982              M   \n",
       "\n",
       "                    Officer Race  ...     Reported Time  \\\n",
       "0  American Indian/Alaska Native  ...  10:47:39.0000000   \n",
       "1                          White  ...  17:08:12.0000000   \n",
       "2                          White  ...  17:48:00.0000000   \n",
       "3                          White  ...  11:49:00.0000000   \n",
       "4  Nat Hawaiian/Oth Pac Islander  ...  22:18:36.0000000   \n",
       "\n",
       "                            Initial Call Type  \\\n",
       "0  SUSPICIOUS STOP - OFFICER INITIATED ONVIEW   \n",
       "1                        BURG - OCCUPIED RESD   \n",
       "2                                           -   \n",
       "3                                           -   \n",
       "4                            SHOPLIFT - THEFT   \n",
       "\n",
       "                            Final Call Type Call Type  \\\n",
       "0  --SUSPICIOUS CIRCUM. - SUSPICIOUS PERSON    ONVIEW   \n",
       "1                    --PROPERTY DEST (DAMG)       911   \n",
       "2                                         -         -   \n",
       "3                                         -         -   \n",
       "4   --BURGLARY - NON RESIDENTIAL/COMMERCIAL    ONVIEW   \n",
       "\n",
       "                               Officer Squad Arrest Flag Frisk Flag  \\\n",
       "0          WEST PCT 1ST W - KING - PLATOON 1           N          N   \n",
       "1  NORTH PCT 2ND W - NORA (JOHN) - PLATOON 1           Y          N   \n",
       "2          NORTH PCT 2ND WATCH - NORTH BEATS           N          Y   \n",
       "3  SOUTHWEST PCT 1ST W - WILLIAM - PLATOON 2           N          N   \n",
       "4    SOUTHWEST PCT 2ND W - FRANK - PLATOON 2           Y          N   \n",
       "\n",
       "    Precinct Sector Beat  \n",
       "0       West      K   K2  \n",
       "1      North      N   N3  \n",
       "2          -      -    -  \n",
       "3  Southwest      F   F1  \n",
       "4  Southwest      F   F2  \n",
       "\n",
       "[5 rows x 23 columns]"
      ]
     },
     "execution_count": 9,
     "metadata": {},
     "output_type": "execute_result"
    }
   ],
   "source": [
    "# Display first few rows and basic information about the dataset\n",
    "df.head()"
   ]
  },
  {
   "cell_type": "code",
   "execution_count": 10,
   "metadata": {},
   "outputs": [
    {
     "name": "stdout",
     "output_type": "stream",
     "text": [
      "<class 'pandas.core.frame.DataFrame'>\n",
      "RangeIndex: 61021 entries, 0 to 61020\n",
      "Data columns (total 23 columns):\n",
      " #   Column                    Non-Null Count  Dtype \n",
      "---  ------                    --------------  ----- \n",
      " 0   Subject Age Group         61021 non-null  object\n",
      " 1   Subject ID                61021 non-null  int64 \n",
      " 2   GO / SC Num               61021 non-null  int64 \n",
      " 3   Terry Stop ID             61021 non-null  int64 \n",
      " 4   Stop Resolution           61021 non-null  object\n",
      " 5   Weapon Type               28456 non-null  object\n",
      " 6   Officer ID                61021 non-null  object\n",
      " 7   Officer YOB               61021 non-null  int64 \n",
      " 8   Officer Gender            61021 non-null  object\n",
      " 9   Officer Race              61021 non-null  object\n",
      " 10  Subject Perceived Race    61021 non-null  object\n",
      " 11  Subject Perceived Gender  61021 non-null  object\n",
      " 12  Reported Date             61021 non-null  object\n",
      " 13  Reported Time             61021 non-null  object\n",
      " 14  Initial Call Type         61021 non-null  object\n",
      " 15  Final Call Type           61021 non-null  object\n",
      " 16  Call Type                 61021 non-null  object\n",
      " 17  Officer Squad             60460 non-null  object\n",
      " 18  Arrest Flag               61021 non-null  object\n",
      " 19  Frisk Flag                61021 non-null  object\n",
      " 20  Precinct                  61021 non-null  object\n",
      " 21  Sector                    61021 non-null  object\n",
      " 22  Beat                      61021 non-null  object\n",
      "dtypes: int64(4), object(19)\n",
      "memory usage: 10.7+ MB\n"
     ]
    }
   ],
   "source": [
    "df.info()"
   ]
  },
  {
   "cell_type": "markdown",
   "metadata": {},
   "source": [
    "## Data Exploration"
   ]
  },
  {
   "cell_type": "code",
   "execution_count": 11,
   "metadata": {},
   "outputs": [
    {
     "name": "stdout",
     "output_type": "stream",
     "text": [
      "Arrest Flag\n",
      "N    0.892086\n",
      "Y    0.107914\n",
      "Name: proportion, dtype: float64\n"
     ]
    }
   ],
   "source": [
    "# check the distribution of the target variable (Arrest Flag)\n",
    "print(df['Arrest Flag'].value_counts(normalize=True))"
   ]
  },
  {
   "cell_type": "code",
   "execution_count": 12,
   "metadata": {},
   "outputs": [
    {
     "data": {
      "image/png": "[encoded data removed]",
      "text/plain": [
       "<Figure size 576x432 with 1 Axes>"
      ]
     },
     "metadata": {
      "needs_background": "light"
     },
     "output_type": "display_data"
    }
   ],
   "source": [
    "# Visualize the distribution\n",
    "plt.figure(figsize=(8, 6))\n",
    "sns.countplot(x='Arrest Flag', data=df)\n",
    "plt.title('Distribution of Arrests')\n",
    "plt.show()"
   ]
  },
  {
   "cell_type": "code",
   "execution_count": 14,
   "metadata": {},
   "outputs": [
    {
     "data": {
      "image/png": "[encoded data removed]",
      "text/plain": [
       "<Figure size 864x432 with 1 Axes>"
      ]
     },
     "metadata": {
      "needs_background": "light"
     },
     "output_type": "display_data"
    }
   ],
   "source": [
    "# Examine the relationship between subject perceived race and arrest flag\n",
    "plt.figure(figsize=(12, 6))\n",
    "sns.countplot(x='Subject Perceived Race', hue='Arrest Flag', data=df)\n",
    "plt.title('Arrests by Subject Perceived Race')\n",
    "plt.show()"
   ]
  },
  {
   "cell_type": "code",
   "execution_count": null,
   "metadata": {},
   "outputs": [],
   "source": []
  }
 ],
 "metadata": {
  "kernelspec": {
   "display_name": "learn-env",
   "language": "python",
   "name": "python3"
  },
  "language_info": {
   "codemirror_mode": {
    "name": "ipython",
    "version": 3
   },
   "file_extension": ".py",
   "mimetype": "text/x-python",
   "name": "python",
   "nbconvert_exporter": "python",
   "pygments_lexer": "ipython3",
   "version": "3.8.5"
  }
 },
 "nbformat": 4,
 "nbformat_minor": 2
}
